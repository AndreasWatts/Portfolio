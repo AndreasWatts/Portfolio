{
 "cells": [
  {
   "cell_type": "markdown",
   "metadata": {
    "application/vnd.databricks.v1+cell": {
     "cellMetadata": {
      "byteLimit": 2048000,
      "rowLimit": 10000
     },
     "inputWidgets": {},
     "nuid": "edd52279-7f75-44fa-9b66-669949016d96",
     "showTitle": false,
     "tableResultSettingsMap": {},
     "title": ""
    }
   },
   "source": [
    "## Gold Notebook"
   ]
  },
  {
   "cell_type": "code",
   "execution_count": 0,
   "metadata": {
    "application/vnd.databricks.v1+cell": {
     "cellMetadata": {
      "byteLimit": 2048000,
      "rowLimit": 10000
     },
     "inputWidgets": {},
     "nuid": "a82df6a2-a101-45a6-a302-83c21be79f7e",
     "showTitle": false,
     "tableResultSettingsMap": {},
     "title": ""
    }
   },
   "outputs": [],
   "source": [
    "#Add libraries\n",
    "from pyspark.sql.functions import *\n",
    "from pyspark.sql.types import *"
   ]
  },
  {
   "cell_type": "markdown",
   "metadata": {
    "application/vnd.databricks.v1+cell": {
     "cellMetadata": {
      "byteLimit": 2048000,
      "rowLimit": 10000
     },
     "inputWidgets": {},
     "nuid": "78c6f5fe-b5a7-4083-b851-8baab4bced01",
     "showTitle": false,
     "tableResultSettingsMap": {},
     "title": ""
    }
   },
   "source": [
    "## Creating FLAG Parameter"
   ]
  },
  {
   "cell_type": "code",
   "execution_count": 0,
   "metadata": {
    "application/vnd.databricks.v1+cell": {
     "cellMetadata": {
      "byteLimit": 2048000,
      "rowLimit": 10000
     },
     "inputWidgets": {},
     "nuid": "588a16d4-6c43-4d99-9616-f1ba91bb833a",
     "showTitle": false,
     "tableResultSettingsMap": {},
     "title": ""
    }
   },
   "outputs": [],
   "source": [
    "dbutils.widgets.text('incremental_flag','0')"
   ]
  },
  {
   "cell_type": "code",
   "execution_count": 0,
   "metadata": {
    "application/vnd.databricks.v1+cell": {
     "cellMetadata": {
      "byteLimit": 2048000,
      "rowLimit": 10000
     },
     "inputWidgets": {},
     "nuid": "f9dee52c-2e43-4031-baee-289f5d19406c",
     "showTitle": false,
     "tableResultSettingsMap": {},
     "title": ""
    }
   },
   "outputs": [
    {
     "name": "stdout",
     "output_type": "stream",
     "text": [
      "0\n",
      "<class 'str'>\n"
     ]
    }
   ],
   "source": [
    "incremental_flag = dbutils.widgets.get('incremental_flag')\n",
    "print(incremental_flag)\n",
    "print(type(incremental_flag))"
   ]
  },
  {
   "cell_type": "markdown",
   "metadata": {
    "application/vnd.databricks.v1+cell": {
     "cellMetadata": {
      "byteLimit": 2048000,
      "rowLimit": 10000
     },
     "inputWidgets": {},
     "nuid": "9d0f228e-5e6e-4e51-b422-70a2f89faae4",
     "showTitle": false,
     "tableResultSettingsMap": {},
     "title": ""
    }
   },
   "source": [
    "## Creating Dimensional Model"
   ]
  },
  {
   "cell_type": "markdown",
   "metadata": {
    "application/vnd.databricks.v1+cell": {
     "cellMetadata": {
      "byteLimit": 2048000,
      "rowLimit": 10000
     },
     "inputWidgets": {},
     "nuid": "7181ade9-cb62-4912-968b-31c6ea35d517",
     "showTitle": false,
     "tableResultSettingsMap": {},
     "title": ""
    }
   },
   "source": [
    "### Our Silver Table:"
   ]
  },
  {
   "cell_type": "code",
   "execution_count": 0,
   "metadata": {
    "application/vnd.databricks.v1+cell": {
     "cellMetadata": {
      "byteLimit": 2048000,
      "implicitDf": true,
      "rowLimit": 10000
     },
     "inputWidgets": {},
     "nuid": "f87d18b7-f6a8-496f-8221-55ecf270569a",
     "showTitle": false,
     "tableResultSettingsMap": {},
     "title": ""
    }
   },
   "outputs": [],
   "source": [
    "%sql\n",
    "SELECT * FROM parquet.`abfss://silver@datalake.dfs.core.windows.net/carsales`"
   ]
  },
  {
   "cell_type": "markdown",
   "metadata": {
    "application/vnd.databricks.v1+cell": {
     "cellMetadata": {
      "byteLimit": 2048000,
      "rowLimit": 10000
     },
     "inputWidgets": {},
     "nuid": "97c2e1de-c112-4d5c-88b6-8b3e06e07a16",
     "showTitle": false,
     "tableResultSettingsMap": {},
     "title": ""
    }
   },
   "source": [
    "### Creating the first dimension (Dim_Model)\n",
    "**Step 1: I create a new Dataframe using spark.sql with model ID and model category.**"
   ]
  },
  {
   "cell_type": "code",
   "execution_count": 0,
   "metadata": {
    "application/vnd.databricks.v1+cell": {
     "cellMetadata": {
      "byteLimit": 2048000,
      "implicitDf": true,
      "rowLimit": 10000
     },
     "inputWidgets": {},
     "nuid": "22d9f84f-7d36-4b4f-97bd-c52926dbac4b",
     "showTitle": false,
     "tableResultSettingsMap": {},
     "title": ""
    }
   },
   "outputs": [],
   "source": [
    "df_source = spark.sql('''\n",
    "SELECT DISTINCT  \n",
    "    (Model_ID) as Model_ID\n",
    "    ,model_category\n",
    " FROM parquet.`abfss://silver@datalake.dfs.core.windows.net/carsales`\n",
    " ''')"
   ]
  },
  {
   "cell_type": "markdown",
   "metadata": {
    "application/vnd.databricks.v1+cell": {
     "cellMetadata": {
      "byteLimit": 2048000,
      "rowLimit": 10000
     },
     "inputWidgets": {},
     "nuid": "99b257ce-4d0f-45ce-b0ca-098b46b79260",
     "showTitle": false,
     "tableResultSettingsMap": {},
     "title": ""
    }
   },
   "source": [
    "**Step 2: Add surrogate key to the table.**"
   ]
  },
  {
   "cell_type": "code",
   "execution_count": 0,
   "metadata": {
    "application/vnd.databricks.v1+cell": {
     "cellMetadata": {
      "byteLimit": 2048000,
      "rowLimit": 10000
     },
     "inputWidgets": {},
     "nuid": "b268b015-ce1f-4a14-8eee-4277f00b105a",
     "showTitle": false,
     "tableResultSettingsMap": {},
     "title": ""
    }
   },
   "outputs": [],
   "source": [
    "%python\n",
    "# Example of incremental load schema:\n",
    "if spark.catalog.tableExists('carsproject_catalog.gold.dim_model'):  # this runs the incremental load.\n",
    "    df_sink = spark.sql('''\n",
    "    SELECT \n",
    "      1 as dim_model_key, \n",
    "      Model_ID, \n",
    "      model_category \n",
    "    FROM carsproject_catalog.gold.dim_model\n",
    "    ''')\n",
    "else:  # this runs the initial load if the table does not already exist.\n",
    "    df_sink = spark.sql('''\n",
    "    SELECT \n",
    "      1 as dim_model_key, \n",
    "      Model_ID, \n",
    "      model_category \n",
    "    FROM parquet.`abfss://silver@datalake.dfs.core.windows.net/carsales`\n",
    "    WHERE 1=0 \n",
    "    ''')"
   ]
  },
  {
   "cell_type": "code",
   "execution_count": 0,
   "metadata": {
    "application/vnd.databricks.v1+cell": {
     "cellMetadata": {
      "byteLimit": 2048000,
      "implicitDf": true,
      "rowLimit": 10000
     },
     "inputWidgets": {},
     "nuid": "2d8ec545-4d66-4043-83ea-40dcc3d243ea",
     "showTitle": false,
     "tableResultSettingsMap": {},
     "title": ""
    }
   },
   "outputs": [],
   "source": [
    "%sql\n",
    "--SELECT \n",
    "--  dim_model_key, \n",
    "--  Model_ID, \n",
    "--  model_category \n",
    "--FROM parquet.`abfss://silver@datalake.dfs.core.windows.net/carsales`\n",
    "--WHERE 1=0 --this means that this condition is always false. In other words only returns the schema."
   ]
  },
  {
   "cell_type": "markdown",
   "metadata": {
    "application/vnd.databricks.v1+cell": {
     "cellMetadata": {
      "byteLimit": 2048000,
      "rowLimit": 10000
     },
     "inputWidgets": {},
     "nuid": "31378bf4-410a-48fb-9805-ac4e61b485c8",
     "showTitle": false,
     "tableResultSettingsMap": {},
     "title": ""
    }
   },
   "source": [
    "**Filtering new records and old records**"
   ]
  },
  {
   "cell_type": "code",
   "execution_count": 0,
   "metadata": {
    "application/vnd.databricks.v1+cell": {
     "cellMetadata": {
      "byteLimit": 2048000,
      "rowLimit": 10000
     },
     "inputWidgets": {},
     "nuid": "9d97fd89-328e-4d9a-99d1-6ae1edd87629",
     "showTitle": false,
     "tableResultSettingsMap": {},
     "title": ""
    }
   },
   "outputs": [],
   "source": [
    "df_filter = df_source.join(df_sink, df_source['Model_ID'] == df_sink['Model_ID'], 'left').select(df_source['Model_ID'], df_source['model_category'], df_sink['dim_model_key'])"
   ]
  },
  {
   "cell_type": "markdown",
   "metadata": {
    "application/vnd.databricks.v1+cell": {
     "cellMetadata": {
      "byteLimit": 2048000,
      "rowLimit": 10000
     },
     "inputWidgets": {},
     "nuid": "b4db9f22-36db-4a4e-8b63-a285440894d7",
     "showTitle": false,
     "tableResultSettingsMap": {},
     "title": ""
    }
   },
   "source": [
    "df_filter_old"
   ]
  },
  {
   "cell_type": "code",
   "execution_count": 0,
   "metadata": {
    "application/vnd.databricks.v1+cell": {
     "cellMetadata": {
      "byteLimit": 2048000,
      "rowLimit": 10000
     },
     "inputWidgets": {},
     "nuid": "21020d82-142b-48d0-af93-b192ac809791",
     "showTitle": false,
     "tableResultSettingsMap": {},
     "title": ""
    }
   },
   "outputs": [],
   "source": [
    "df_filter_old = df_filter.filter(col('dim_model_key').isNotNull())"
   ]
  },
  {
   "cell_type": "markdown",
   "metadata": {
    "application/vnd.databricks.v1+cell": {
     "cellMetadata": {
      "byteLimit": 2048000,
      "rowLimit": 10000
     },
     "inputWidgets": {},
     "nuid": "a0737454-2ff7-4bd6-a5e4-a8faea9999c9",
     "showTitle": false,
     "tableResultSettingsMap": {},
     "title": ""
    }
   },
   "source": [
    "df_filter_new"
   ]
  },
  {
   "cell_type": "code",
   "execution_count": 0,
   "metadata": {
    "application/vnd.databricks.v1+cell": {
     "cellMetadata": {
      "byteLimit": 2048000,
      "rowLimit": 10000
     },
     "inputWidgets": {},
     "nuid": "c76cd6bc-7d0d-46b8-aa31-01628a95455e",
     "showTitle": false,
     "tableResultSettingsMap": {},
     "title": ""
    }
   },
   "outputs": [],
   "source": [
    "df_filter_new = df_filter.filter(col('dim_model_key').isNull()).select(df_source['Model_ID'], df_source['model_category'])"
   ]
  },
  {
   "cell_type": "code",
   "execution_count": 0,
   "metadata": {
    "application/vnd.databricks.v1+cell": {
     "cellMetadata": {
      "byteLimit": 2048000,
      "rowLimit": 10000
     },
     "inputWidgets": {},
     "nuid": "8b6bc1f8-9947-4de2-bef7-0d34f95fca37",
     "showTitle": false,
     "tableResultSettingsMap": {},
     "title": ""
    }
   },
   "outputs": [
    {
     "data": {
      "text/html": [
       "<style scoped>\n",
       "  .table-result-container {\n",
       "    max-height: 300px;\n",
       "    overflow: auto;\n",
       "  }\n",
       "  table, th, td {\n",
       "    border: 1px solid black;\n",
       "    border-collapse: collapse;\n",
       "  }\n",
       "  th, td {\n",
       "    padding: 5px;\n",
       "  }\n",
       "  th {\n",
       "    text-align: left;\n",
       "  }\n",
       "</style><div class='table-result-container'><table class='table-result'><thead style='background-color: white'><tr><th>Model_ID</th><th>model_category</th></tr></thead><tbody></tbody></table></div>"
      ]
     },
     "metadata": {
      "application/vnd.databricks.v1+output": {
       "addedWidgets": {},
       "aggData": [],
       "aggError": "",
       "aggOverflow": false,
       "aggSchema": [],
       "aggSeriesLimitReached": false,
       "aggType": "",
       "arguments": {},
       "columnCustomDisplayInfos": {},
       "data": [],
       "datasetInfos": [],
       "dbfsResultPath": null,
       "isJsonSchema": true,
       "metadata": {},
       "overflow": false,
       "plotOptions": {
        "customPlotOptions": {},
        "displayType": "table",
        "pivotAggregation": null,
        "pivotColumns": null,
        "xColumns": null,
        "yColumns": null
       },
       "removedWidgets": [],
       "schema": [
        {
         "metadata": "{}",
         "name": "Model_ID",
         "type": "\"string\""
        },
        {
         "metadata": "{}",
         "name": "model_category",
         "type": "\"string\""
        }
       ],
       "type": "table"
      }
     },
     "output_type": "display_data"
    }
   ],
   "source": [
    "display(df_filter_new)"
   ]
  },
  {
   "cell_type": "markdown",
   "metadata": {
    "application/vnd.databricks.v1+cell": {
     "cellMetadata": {
      "byteLimit": 2048000,
      "rowLimit": 10000
     },
     "inputWidgets": {},
     "nuid": "d56bccd3-eb3c-4732-a93c-9ea19f4ff5f8",
     "showTitle": false,
     "tableResultSettingsMap": {},
     "title": ""
    }
   },
   "source": [
    "## Create Surrogate Key"
   ]
  },
  {
   "cell_type": "markdown",
   "metadata": {
    "application/vnd.databricks.v1+cell": {
     "cellMetadata": {
      "byteLimit": 2048000,
      "rowLimit": 10000
     },
     "inputWidgets": {},
     "nuid": "cf6b797a-e16f-4ca5-8d87-64196b858e5c",
     "showTitle": false,
     "tableResultSettingsMap": {},
     "title": ""
    }
   },
   "source": [
    "**Fetch the max Surrogate Key from existing table**"
   ]
  },
  {
   "cell_type": "code",
   "execution_count": 0,
   "metadata": {
    "application/vnd.databricks.v1+cell": {
     "cellMetadata": {
      "byteLimit": 2048000,
      "rowLimit": 10000
     },
     "inputWidgets": {},
     "nuid": "fb38b997-faa5-4cb2-ba38-5ba0a73090af",
     "showTitle": false,
     "tableResultSettingsMap": {},
     "title": ""
    }
   },
   "outputs": [],
   "source": [
    "if (incremental_flag == '0'):\n",
    "    max_value = 1\n",
    "else:\n",
    "    max_value = spark.sql(\"select max(dim_model_key) from carsproject_catalog.gold.dim_model\")\n",
    "    max_value = max_value.collect()[0][0]+1\n",
    "\n"
   ]
  },
  {
   "cell_type": "markdown",
   "metadata": {
    "application/vnd.databricks.v1+cell": {
     "cellMetadata": {
      "byteLimit": 2048000,
      "rowLimit": 10000
     },
     "inputWidgets": {},
     "nuid": "98d27581-720e-460c-8712-519cf7c52975",
     "showTitle": false,
     "tableResultSettingsMap": {},
     "title": ""
    }
   },
   "source": [
    "**Create Surrogate Key Column and ADD the max surrogate key**"
   ]
  },
  {
   "cell_type": "code",
   "execution_count": 0,
   "metadata": {
    "application/vnd.databricks.v1+cell": {
     "cellMetadata": {
      "byteLimit": 2048000,
      "rowLimit": 10000
     },
     "inputWidgets": {},
     "nuid": "cf6f7aff-f9d9-4505-8bb8-761554cccee0",
     "showTitle": false,
     "tableResultSettingsMap": {},
     "title": ""
    }
   },
   "outputs": [],
   "source": [
    "df_filter_new = df_filter_new.withColumn('dim_model_key', max_value+monotonically_increasing_id())"
   ]
  },
  {
   "cell_type": "markdown",
   "metadata": {
    "application/vnd.databricks.v1+cell": {
     "cellMetadata": {
      "byteLimit": 2048000,
      "rowLimit": 10000
     },
     "inputWidgets": {},
     "nuid": "0543b945-d99b-4c87-a077-aecdaeddad0e",
     "showTitle": false,
     "tableResultSettingsMap": {},
     "title": ""
    }
   },
   "source": [
    "## Create Final DF - df_filter_old + df_filter_new"
   ]
  },
  {
   "cell_type": "code",
   "execution_count": 0,
   "metadata": {
    "application/vnd.databricks.v1+cell": {
     "cellMetadata": {
      "byteLimit": 2048000,
      "rowLimit": 10000
     },
     "inputWidgets": {},
     "nuid": "52c6129f-b2e6-4d11-ab85-51f873b26234",
     "showTitle": false,
     "tableResultSettingsMap": {},
     "title": ""
    }
   },
   "outputs": [],
   "source": [
    "df_final = df_filter_new.union(df_filter_old)"
   ]
  },
  {
   "cell_type": "code",
   "execution_count": 0,
   "metadata": {
    "application/vnd.databricks.v1+cell": {
     "cellMetadata": {
      "byteLimit": 2048000,
      "rowLimit": 10000
     },
     "inputWidgets": {},
     "nuid": "4fc929ca-09c1-493a-ac3d-3ec67259634c",
     "showTitle": false,
     "tableResultSettingsMap": {},
     "title": ""
    }
   },
   "outputs": [],
   "source": [
    "df_final.display()"
   ]
  },
  {
   "cell_type": "markdown",
   "metadata": {
    "application/vnd.databricks.v1+cell": {
     "cellMetadata": {
      "byteLimit": 2048000,
      "rowLimit": 10000
     },
     "inputWidgets": {},
     "nuid": "e28f1670-a53a-40b5-bf9c-ed1ac88e0bb0",
     "showTitle": false,
     "tableResultSettingsMap": {},
     "title": ""
    }
   },
   "source": [
    "## SCD TYPE - 1 (UPSERT)\n",
    "- SCD (Slowly Changing Dimension)\n",
    "- UPSERT (Update + Insert)"
   ]
  },
  {
   "cell_type": "code",
   "execution_count": 0,
   "metadata": {
    "application/vnd.databricks.v1+cell": {
     "cellMetadata": {
      "byteLimit": 2048000,
      "rowLimit": 10000
     },
     "inputWidgets": {},
     "nuid": "bee8b7a5-6ea3-4a29-9186-71f845ef3c44",
     "showTitle": false,
     "tableResultSettingsMap": {},
     "title": ""
    }
   },
   "outputs": [],
   "source": [
    "from delta.tables import DeltaTable"
   ]
  },
  {
   "cell_type": "code",
   "execution_count": 0,
   "metadata": {
    "application/vnd.databricks.v1+cell": {
     "cellMetadata": {
      "byteLimit": 2048000,
      "rowLimit": 10000
     },
     "inputWidgets": {},
     "nuid": "08f9a7af-5074-4740-8e96-20947446dcf8",
     "showTitle": false,
     "tableResultSettingsMap": {},
     "title": ""
    }
   },
   "outputs": [],
   "source": [
    "%python\n",
    "from pyspark.sql.functions import col\n",
    "\n",
    "# Remove duplicates from the source DataFrame\n",
    "df_final_deduped = df_final.dropDuplicates([\"dim_model_key\"])\n",
    "\n",
    "# Incremental RUN\n",
    "if spark.catalog.tableExists('carsproject_catalog.gold.dim_model'):\n",
    "    delta_tbl = DeltaTable.forPath(spark, \"abfss://gold@datalake.dfs.core.windows.net/dim_model\")\n",
    "    delta_tbl.alias(\"trg\").merge(\n",
    "        df_final_deduped.alias(\"src\"),\n",
    "        \"trg.dim_model_key = src.dim_model_key\"\n",
    "    ).whenMatchedUpdateAll()\\\n",
    "     .whenNotMatchedInsertAll()\\\n",
    "     .execute()\n",
    "\n",
    "# Initial RUN\n",
    "else:\n",
    "    df_final_deduped.write.format(\"delta\")\\\n",
    "        .mode(\"overwrite\")\\\n",
    "        .option(\"path\", \"abfss://gold@datalake.dfs.core.windows.net/dim_model\")\\\n",
    "        .saveAsTable(\"carsproject_catalog.gold.dim_model\")"
   ]
  },
  {
   "cell_type": "code",
   "execution_count": 0,
   "metadata": {
    "application/vnd.databricks.v1+cell": {
     "cellMetadata": {
      "byteLimit": 2048000,
      "implicitDf": true,
      "rowLimit": 10000
     },
     "inputWidgets": {},
     "nuid": "b96bf3cd-2177-487b-b521-079ed47cd545",
     "showTitle": false,
     "tableResultSettingsMap": {},
     "title": ""
    }
   },
   "outputs": [
    {
     "data": {
      "text/html": [
       "<style scoped>\n",
       "  .table-result-container {\n",
       "    max-height: 300px;\n",
       "    overflow: auto;\n",
       "  }\n",
       "  table, th, td {\n",
       "    border: 1px solid black;\n",
       "    border-collapse: collapse;\n",
       "  }\n",
       "  th, td {\n",
       "    padding: 5px;\n",
       "  }\n",
       "  th {\n",
       "    text-align: left;\n",
       "  }\n",
       "</style><div class='table-result-container'><table class='table-result'><thead style='background-color: white'><tr><th>Model_ID</th><th>model_category</th><th>dim_model_key</th></tr></thead><tbody><tr><td>Che-M47</td><td>Che</td><td>2</td></tr><tr><td>Toy-M205</td><td>Toy</td><td>3</td></tr><tr><td>BMW-M249</td><td>BMW</td><td>4</td></tr><tr><td>Mer-M122</td><td>Mer</td><td>5</td></tr><tr><td>Hon-M215</td><td>Hon</td><td>6</td></tr><tr><td>Nis-M82</td><td>Nis</td><td>7</td></tr><tr><td>Toy-M206</td><td>Toy</td><td>8</td></tr><tr><td>Mar-M139</td><td>Mar</td><td>9</td></tr><tr><td>Mar-M146</td><td>Mar</td><td>10</td></tr><tr><td>Mar-M141</td><td>Mar</td><td>11</td></tr><tr><td>Ren-M207</td><td>Ren</td><td>12</td></tr><tr><td>Lin-M28</td><td>Lin</td><td>13</td></tr><tr><td>Toy-M202</td><td>Toy</td><td>14</td></tr><tr><td>Cad-M32</td><td>Cad</td><td>15</td></tr><tr><td>Hon-M69</td><td>Hon</td><td>16</td></tr><tr><td>Tat-M185</td><td>Tat</td><td>17</td></tr><tr><td>Aud-M231</td><td>Aud</td><td>18</td></tr><tr><td>Che-M41</td><td>Che</td><td>19</td></tr><tr><td>Tat-M192</td><td>Tat</td><td>20</td></tr><tr><td>Mar-M138</td><td>Mar</td><td>21</td></tr><tr><td>Ram-M14</td><td>Ram</td><td>22</td></tr><tr><td>Aud-M236</td><td>Aud</td><td>23</td></tr><tr><td>Mar-M151</td><td>Mar</td><td>24</td></tr><tr><td>Acu-M59</td><td>Acu</td><td>25</td></tr><tr><td>Mah-M174</td><td>Mah</td><td>26</td></tr><tr><td>Hon-M70</td><td>Hon</td><td>27</td></tr><tr><td>Dod-M9</td><td>Dod</td><td>28</td></tr><tr><td>Tes-M96</td><td>Tes</td><td>29</td></tr><tr><td>For-M23</td><td>For</td><td>30</td></tr><tr><td>BMW-M3</td><td>BMW</td><td>31</td></tr><tr><td>Tat-M194</td><td>Tat</td><td>32</td></tr><tr><td>Vol-M108</td><td>Vol</td><td>33</td></tr><tr><td>Nis-M263</td><td>Nis</td><td>34</td></tr><tr><td>BMW-M250</td><td>BMW</td><td>35</td></tr><tr><td>Aud-M234</td><td>Aud</td><td>36</td></tr><tr><td>For-M25</td><td>For</td><td>37</td></tr><tr><td>Toy-M103</td><td>Toy</td><td>38</td></tr><tr><td>Nis-M267</td><td>Nis</td><td>39</td></tr><tr><td>Ren-M129</td><td>Ren</td><td>40</td></tr><tr><td>Hon-M68</td><td>Hon</td><td>41</td></tr><tr><td>Nis-M85</td><td>Nis</td><td>42</td></tr><tr><td>Aud-M235</td><td>Aud</td><td>43</td></tr><tr><td>Hyu-M163</td><td>Hyu</td><td>44</td></tr><tr><td>Toy-M133</td><td>Toy</td><td>45</td></tr><tr><td>Lex-M99</td><td>Lex</td><td>46</td></tr><tr><td>Kia-M76</td><td>Kia</td><td>47</td></tr><tr><td>Tat-M187</td><td>Tat</td><td>48</td></tr><tr><td>Jee-M10</td><td>Jee</td><td>49</td></tr><tr><td>Cit-M115</td><td>Cit</td><td>50</td></tr><tr><td>Sko-M274</td><td>Sko</td><td>51</td></tr><tr><td>Ren-M209</td><td>Ren</td><td>52</td></tr><tr><td>Mer-M123</td><td>Mer</td><td>53</td></tr><tr><td>Hyu-M154</td><td>Hyu</td><td>54</td></tr><tr><td>Cad-M36</td><td>Cad</td><td>55</td></tr><tr><td>Mer-M7</td><td>Mer</td><td>56</td></tr><tr><td>Hon-M67</td><td>Hon</td><td>57</td></tr><tr><td>Ren-M208</td><td>Ren</td><td>58</td></tr><tr><td>For-M119</td><td>For</td><td>59</td></tr><tr><td>Toy-M203</td><td>Toy</td><td>60</td></tr><tr><td>Mar-M145</td><td>Mar</td><td>61</td></tr><tr><td>Hyu-M162</td><td>Hyu</td><td>62</td></tr><tr><td>Che-M51</td><td>Che</td><td>63</td></tr><tr><td>Nis-M84</td><td>Nis</td><td>64</td></tr><tr><td>Peu-M125</td><td>Peu</td><td>65</td></tr><tr><td>Mah-M177</td><td>Mah</td><td>66</td></tr><tr><td>Toy-M198</td><td>Toy</td><td>67</td></tr><tr><td>For-M16</td><td>For</td><td>68</td></tr><tr><td>Toy-M104</td><td>Toy</td><td>69</td></tr><tr><td>BMW-M4</td><td>BMW</td><td>70</td></tr><tr><td>Che-M114</td><td>Che</td><td>71</td></tr><tr><td>Nis-M88</td><td>Nis</td><td>72</td></tr><tr><td>Aud-M233</td><td>Aud</td><td>73</td></tr><tr><td>Mar-M147</td><td>Mar</td><td>74</td></tr><tr><td>Nis-M269</td><td>Nis</td><td>75</td></tr><tr><td>Tes-M98</td><td>Tes</td><td>76</td></tr><tr><td>Aud-M241</td><td>Aud</td><td>77</td></tr><tr><td>Acu-M60</td><td>Acu</td><td>78</td></tr><tr><td>Mah-M175</td><td>Mah</td><td>79</td></tr><tr><td>Toy-M106</td><td>Toy</td><td>80</td></tr><tr><td>Hyu-M155</td><td>Hyu</td><td>81</td></tr><tr><td>Vol-M110</td><td>Vol</td><td>82</td></tr><tr><td>Mah-M171</td><td>Mah</td><td>83</td></tr><tr><td>Lin-M30</td><td>Lin</td><td>84</td></tr><tr><td>BMW-M242</td><td>BMW</td><td>85</td></tr><tr><td>Ren-M127</td><td>Ren</td><td>86</td></tr><tr><td>For-M223</td><td>For</td><td>87</td></tr><tr><td>Mah-M168</td><td>Mah</td><td>88</td></tr><tr><td>Aud-M229</td><td>Aud</td><td>89</td></tr><tr><td>For-M225</td><td>For</td><td>90</td></tr><tr><td>Aud-M232</td><td>Aud</td><td>91</td></tr><tr><td>Toy-M200</td><td>Toy</td><td>92</td></tr><tr><td>Kia-M77</td><td>Kia</td><td>93</td></tr><tr><td>BMW-M248</td><td>BMW</td><td>94</td></tr><tr><td>Hyu-M164</td><td>Hyu</td><td>95</td></tr><tr><td>Mar-M149</td><td>Mar</td><td>96</td></tr><tr><td>Ren-M211</td><td>Ren</td><td>97</td></tr><tr><td>GMC-M53</td><td>GMC</td><td>98</td></tr><tr><td>Mit-M275</td><td>Mit</td><td>99</td></tr><tr><td>Tat-M186</td><td>Tat</td><td>100</td></tr><tr><td>Hon-M217</td><td>Hon</td><td>101</td></tr><tr><td>Ren-M131</td><td>Ren</td><td>102</td></tr><tr><td>Mar-M152</td><td>Mar</td><td>103</td></tr><tr><td>Jee-M11</td><td>Jee</td><td>104</td></tr><tr><td>Vol-M135</td><td>Vol</td><td>105</td></tr><tr><td>Cad-M38</td><td>Cad</td><td>106</td></tr><tr><td>Hyu-M153</td><td>Hyu</td><td>107</td></tr><tr><td>Ren-M128</td><td>Ren</td><td>108</td></tr><tr><td>Tat-M190</td><td>Tat</td><td>109</td></tr><tr><td>Mer-M8</td><td>Mer</td><td>110</td></tr><tr><td>GMC-M55</td><td>GMC</td><td>111</td></tr><tr><td>BMW-M244</td><td>BMW</td><td>112</td></tr><tr><td>Toy-M201</td><td>Toy</td><td>113</td></tr><tr><td>Toy-M134</td><td>Toy</td><td>114</td></tr><tr><td>Agr-M111</td><td>Agr</td><td>115</td></tr><tr><td>Fia-M117</td><td>Fia</td><td>116</td></tr><tr><td>Mit-M276</td><td>Mit</td><td>117</td></tr><tr><td>Kia-M78</td><td>Kia</td><td>118</td></tr><tr><td>Aud-M230</td><td>Aud</td><td>119</td></tr><tr><td>Ram-M15</td><td>Ram</td><td>120</td></tr><tr><td>Tat-M193</td><td>Tat</td><td>121</td></tr><tr><td>For-M22</td><td>For</td><td>122</td></tr><tr><td>Acu-M62</td><td>Acu</td><td>123</td></tr><tr><td>Mah-M165</td><td>Mah</td><td>124</td></tr><tr><td>Fia-M118</td><td>Fia</td><td>125</td></tr><tr><td>Toy-M195</td><td>Toy</td><td>126</td></tr><tr><td>Che-M49</td><td>Che</td><td>127</td></tr><tr><td>Bui-M31</td><td>Bui</td><td>128</td></tr><tr><td>For-M26</td><td>For</td><td>129</td></tr><tr><td>Peu-M124</td><td>Peu</td><td>130</td></tr><tr><td>Nis-M83</td><td>Nis</td><td>131</td></tr><tr><td>Mar-M142</td><td>Mar</td><td>132</td></tr><tr><td>Nis-M266</td><td>Nis</td><td>133</td></tr><tr><td>For-M18</td><td>For</td><td>134</td></tr><tr><td>Jee-M253</td><td>Jee</td><td>135</td></tr><tr><td>Hyu-M157</td><td>Hyu</td><td>136</td></tr><tr><td>Tat-M181</td><td>Tat</td><td>137</td></tr><tr><td>For-M221</td><td>For</td><td>138</td></tr><tr><td>Aud-M240</td><td>Aud</td><td>139</td></tr><tr><td>Ren-M210</td><td>Ren</td><td>140</td></tr><tr><td>Cad-M39</td><td>Cad</td><td>141</td></tr><tr><td>Acu-M61</td><td>Acu</td><td>142</td></tr><tr><td>Toy-M102</td><td>Toy</td><td>143</td></tr><tr><td>Nis-M262</td><td>Nis</td><td>144</td></tr><tr><td>Hon-M216</td><td>Hon</td><td>145</td></tr><tr><td>Sub-M93</td><td>Sub</td><td>146</td></tr><tr><td>MG-M252</td><td>MG</td><td>147</td></tr><tr><td>Mah-M178</td><td>Mah</td><td>148</td></tr><tr><td>Kia-M213</td><td>Kia</td><td>149</td></tr><tr><td>Hyu-M75</td><td>Hyu</td><td>150</td></tr><tr><td>Mah-M170</td><td>Mah</td><td>151</td></tr><tr><td>Aud-M239</td><td>Aud</td><td>152</td></tr><tr><td>Tat-M180</td><td>Tat</td><td>153</td></tr><tr><td>Hyu-M74</td><td>Hyu</td><td>154</td></tr><tr><td>Cad-M35</td><td>Cad</td><td>155</td></tr><tr><td>BMW-M246</td><td>BMW</td><td>156</td></tr><tr><td>BMW-M1</td><td>BMW</td><td>157</td></tr><tr><td>Ren-M132</td><td>Ren</td><td>158</td></tr><tr><td>GMC-M58</td><td>GMC</td><td>159</td></tr><tr><td>Mar-M148</td><td>Mar</td><td>160</td></tr><tr><td>Toy-M105</td><td>Toy</td><td>161</td></tr><tr><td>Aud-M228</td><td>Aud</td><td>162</td></tr><tr><td>Aud-M237</td><td>Aud</td><td>163</td></tr><tr><td>Hyu-M161</td><td>Hyu</td><td>164</td></tr><tr><td>Nis-M89</td><td>Nis</td><td>165</td></tr><tr><td>BMW-M243</td><td>BMW</td><td>166</td></tr><tr><td>Hyu-M72</td><td>Hyu</td><td>167</td></tr><tr><td>Mar-M140</td><td>Mar</td><td>168</td></tr><tr><td>Toy-M196</td><td>Toy</td><td>169</td></tr><tr><td>Tes-M97</td><td>Tes</td><td>170</td></tr><tr><td>Che-M42</td><td>Che</td><td>171</td></tr><tr><td>Vol-M260</td><td>Vol</td><td>172</td></tr><tr><td>Mah-M176</td><td>Mah</td><td>173</td></tr><tr><td>Hon-M64</td><td>Hon</td><td>174</td></tr><tr><td>Nis-M86</td><td>Nis</td><td>175</td></tr><tr><td>MG-M251</td><td>MG</td><td>176</td></tr><tr><td>Mer-M121</td><td>Mer</td><td>177</td></tr><tr><td>Nis-M81</td><td>Nis</td><td>178</td></tr><tr><td>GMC-M54</td><td>GMC</td><td>179</td></tr><tr><td>Hon-M220</td><td>Hon</td><td>180</td></tr><tr><td>Che-M50</td><td>Che</td><td>181</td></tr><tr><td>Cad-M37</td><td>Cad</td><td>182</td></tr><tr><td>Hyu-M158</td><td>Hyu</td><td>183</td></tr><tr><td>Inf-M79</td><td>Inf</td><td>184</td></tr><tr><td>GMC-M57</td><td>GMC</td><td>185</td></tr><tr><td>BMW-M2</td><td>BMW</td><td>186</td></tr><tr><td>GMC-M52</td><td>GMC</td><td>187</td></tr><tr><td>Cit-M116</td><td>Cit</td><td>188</td></tr><tr><td>Mar-M144</td><td>Mar</td><td>189</td></tr><tr><td>For-M17</td><td>For</td><td>190</td></tr><tr><td>Tat-M184</td><td>Tat</td><td>191</td></tr><tr><td>Tat-M183</td><td>Tat</td><td>192</td></tr><tr><td>Nis-M264</td><td>Nis</td><td>193</td></tr><tr><td>Hyu-M159</td><td>Hyu</td><td>194</td></tr><tr><td>BMW-M5</td><td>BMW</td><td>195</td></tr><tr><td>Mah-M169</td><td>Mah</td><td>196</td></tr><tr><td>Che-M43</td><td>Che</td><td>197</td></tr><tr><td>Tat-M182</td><td>Tat</td><td>198</td></tr><tr><td>Tat-M188</td><td>Tat</td><td>199</td></tr><tr><td>Aud-M227</td><td>Aud</td><td>200</td></tr><tr><td>Mah-M166</td><td>Mah</td><td>201</td></tr><tr><td>Riv-M91</td><td>Riv</td><td>202</td></tr><tr><td>Hon-M71</td><td>Hon</td><td>203</td></tr><tr><td>Hyu-M73</td><td>Hyu</td><td>204</td></tr><tr><td>Hyu-M156</td><td>Hyu</td><td>205</td></tr><tr><td>Cad-M34</td><td>Cad</td><td>206</td></tr><tr><td>Mar-M137</td><td>Mar</td><td>207</td></tr><tr><td>Lin-M27</td><td>Lin</td><td>208</td></tr><tr><td>Mah-M173</td><td>Mah</td><td>209</td></tr><tr><td>Sub-M94</td><td>Sub</td><td>210</td></tr><tr><td>Tat-M179</td><td>Tat</td><td>211</td></tr><tr><td>Jee-M254</td><td>Jee</td><td>212</td></tr><tr><td>GMC-M56</td><td>GMC</td><td>213</td></tr><tr><td>Vol-M109</td><td>Vol</td><td>214</td></tr><tr><td>Peu-M126</td><td>Peu</td><td>215</td></tr><tr><td>Hyu-M160</td><td>Hyu</td><td>216</td></tr><tr><td>For-M222</td><td>For</td><td>217</td></tr><tr><td>Kia-M214</td><td>Kia</td><td>218</td></tr><tr><td>Sub-M95</td><td>Sub</td><td>219</td></tr><tr><td>Toy-M101</td><td>Toy</td><td>220</td></tr><tr><td>Mar-M143</td><td>Mar</td><td>221</td></tr><tr><td>Hon-M65</td><td>Hon</td><td>222</td></tr><tr><td>Nis-M265</td><td>Nis</td><td>223</td></tr><tr><td>Sko-M272</td><td>Sko</td><td>224</td></tr><tr><td>Toy-M107</td><td>Toy</td><td>225</td></tr><tr><td>Che-M45</td><td>Che</td><td>226</td></tr><tr><td>Jee-M12</td><td>Jee</td><td>227</td></tr><tr><td>Hon-M66</td><td>Hon</td><td>228</td></tr><tr><td>Mit-M277</td><td>Mit</td><td>229</td></tr><tr><td>For-M19</td><td>For</td><td>230</td></tr><tr><td>Toy-M100</td><td>Toy</td><td>231</td></tr><tr><td>Agr-M113</td><td>Agr</td><td>232</td></tr><tr><td>Toy-M204</td><td>Toy</td><td>233</td></tr><tr><td>Hon-M120</td><td>Hon</td><td>234</td></tr><tr><td>Sko-M271</td><td>Sko</td><td>235</td></tr><tr><td>Toy-M199</td><td>Toy</td><td>236</td></tr><tr><td>Vol-M255</td><td>Vol</td><td>237</td></tr><tr><td>Vol-M256</td><td>Vol</td><td>238</td></tr><tr><td>Sub-M92</td><td>Sub</td><td>239</td></tr><tr><td>Toy-M197</td><td>Toy</td><td>240</td></tr><tr><td>Mah-M172</td><td>Mah</td><td>241</td></tr><tr><td>Che-M48</td><td>Che</td><td>242</td></tr><tr><td>Mar-M150</td><td>Mar</td><td>243</td></tr><tr><td>Nis-M87</td><td>Nis</td><td>244</td></tr><tr><td>Acu-M63</td><td>Acu</td><td>245</td></tr><tr><td>BMW-M247</td><td>BMW</td><td>246</td></tr><tr><td>For-M226</td><td>For</td><td>247</td></tr><tr><td>Vol-M257</td><td>Vol</td><td>248</td></tr><tr><td>Vol-M259</td><td>Vol</td><td>249</td></tr><tr><td>Nis-M80</td><td>Nis</td><td>250</td></tr><tr><td>Kia-M212</td><td>Kia</td><td>251</td></tr><tr><td>For-M24</td><td>For</td><td>252</td></tr><tr><td>Hon-M218</td><td>Hon</td><td>253</td></tr><tr><td>Sko-M273</td><td>Sko</td><td>254</td></tr><tr><td>Lin-M29</td><td>Lin</td><td>255</td></tr><tr><td>Agr-M112</td><td>Agr</td><td>256</td></tr><tr><td>Nis-M270</td><td>Nis</td><td>257</td></tr><tr><td>Tat-M189</td><td>Tat</td><td>258</td></tr><tr><td>Riv-M90</td><td>Riv</td><td>259</td></tr><tr><td>Vol-M136</td><td>Vol</td><td>260</td></tr><tr><td>Aud-M238</td><td>Aud</td><td>261</td></tr><tr><td>Che-M44</td><td>Che</td><td>262</td></tr><tr><td>For-M21</td><td>For</td><td>263</td></tr><tr><td>For-M224</td><td>For</td><td>264</td></tr><tr><td>Ren-M130</td><td>Ren</td><td>265</td></tr><tr><td>Che-M40</td><td>Che</td><td>266</td></tr><tr><td>Che-M46</td><td>Che</td><td>267</td></tr><tr><td>Hon-M219</td><td>Hon</td><td>268</td></tr><tr><td>Mer-M6</td><td>Mer</td><td>269</td></tr><tr><td>Vol-M258</td><td>Vol</td><td>270</td></tr><tr><td>Jee-M13</td><td>Jee</td><td>271</td></tr><tr><td>For-M20</td><td>For</td><td>272</td></tr><tr><td>Nis-M261</td><td>Nis</td><td>273</td></tr><tr><td>Tat-M191</td><td>Tat</td><td>274</td></tr><tr><td>BMW-M245</td><td>BMW</td><td>275</td></tr><tr><td>Nis-M268</td><td>Nis</td><td>276</td></tr><tr><td>Cad-M33</td><td>Cad</td><td>277</td></tr><tr><td>Mah-M167</td><td>Mah</td><td>1</td></tr></tbody></table></div>"
      ]
     },
     "metadata": {
      "application/vnd.databricks.v1+output": {
       "addedWidgets": {},
       "aggData": [],
       "aggError": "",
       "aggOverflow": false,
       "aggSchema": [],
       "aggSeriesLimitReached": false,
       "aggType": "",
       "arguments": {},
       "columnCustomDisplayInfos": {},
       "data": [
        [
         "Che-M47",
         "Che",
         2
        ],
        [
         "Toy-M205",
         "Toy",
         3
        ],
        [
         "BMW-M249",
         "BMW",
         4
        ],
        [
         "Mer-M122",
         "Mer",
         5
        ],
        [
         "Hon-M215",
         "Hon",
         6
        ],
        [
         "Nis-M82",
         "Nis",
         7
        ],
        [
         "Toy-M206",
         "Toy",
         8
        ],
        [
         "Mar-M139",
         "Mar",
         9
        ],
        [
         "Mar-M146",
         "Mar",
         10
        ],
        [
         "Mar-M141",
         "Mar",
         11
        ],
        [
         "Ren-M207",
         "Ren",
         12
        ],
        [
         "Lin-M28",
         "Lin",
         13
        ],
        [
         "Toy-M202",
         "Toy",
         14
        ],
        [
         "Cad-M32",
         "Cad",
         15
        ],
        [
         "Hon-M69",
         "Hon",
         16
        ],
        [
         "Tat-M185",
         "Tat",
         17
        ],
        [
         "Aud-M231",
         "Aud",
         18
        ],
        [
         "Che-M41",
         "Che",
         19
        ],
        [
         "Tat-M192",
         "Tat",
         20
        ],
        [
         "Mar-M138",
         "Mar",
         21
        ],
        [
         "Ram-M14",
         "Ram",
         22
        ],
        [
         "Aud-M236",
         "Aud",
         23
        ],
        [
         "Mar-M151",
         "Mar",
         24
        ],
        [
         "Acu-M59",
         "Acu",
         25
        ],
        [
         "Mah-M174",
         "Mah",
         26
        ],
        [
         "Hon-M70",
         "Hon",
         27
        ],
        [
         "Dod-M9",
         "Dod",
         28
        ],
        [
         "Tes-M96",
         "Tes",
         29
        ],
        [
         "For-M23",
         "For",
         30
        ],
        [
         "BMW-M3",
         "BMW",
         31
        ],
        [
         "Tat-M194",
         "Tat",
         32
        ],
        [
         "Vol-M108",
         "Vol",
         33
        ],
        [
         "Nis-M263",
         "Nis",
         34
        ],
        [
         "BMW-M250",
         "BMW",
         35
        ],
        [
         "Aud-M234",
         "Aud",
         36
        ],
        [
         "For-M25",
         "For",
         37
        ],
        [
         "Toy-M103",
         "Toy",
         38
        ],
        [
         "Nis-M267",
         "Nis",
         39
        ],
        [
         "Ren-M129",
         "Ren",
         40
        ],
        [
         "Hon-M68",
         "Hon",
         41
        ],
        [
         "Nis-M85",
         "Nis",
         42
        ],
        [
         "Aud-M235",
         "Aud",
         43
        ],
        [
         "Hyu-M163",
         "Hyu",
         44
        ],
        [
         "Toy-M133",
         "Toy",
         45
        ],
        [
         "Lex-M99",
         "Lex",
         46
        ],
        [
         "Kia-M76",
         "Kia",
         47
        ],
        [
         "Tat-M187",
         "Tat",
         48
        ],
        [
         "Jee-M10",
         "Jee",
         49
        ],
        [
         "Cit-M115",
         "Cit",
         50
        ],
        [
         "Sko-M274",
         "Sko",
         51
        ],
        [
         "Ren-M209",
         "Ren",
         52
        ],
        [
         "Mer-M123",
         "Mer",
         53
        ],
        [
         "Hyu-M154",
         "Hyu",
         54
        ],
        [
         "Cad-M36",
         "Cad",
         55
        ],
        [
         "Mer-M7",
         "Mer",
         56
        ],
        [
         "Hon-M67",
         "Hon",
         57
        ],
        [
         "Ren-M208",
         "Ren",
         58
        ],
        [
         "For-M119",
         "For",
         59
        ],
        [
         "Toy-M203",
         "Toy",
         60
        ],
        [
         "Mar-M145",
         "Mar",
         61
        ],
        [
         "Hyu-M162",
         "Hyu",
         62
        ],
        [
         "Che-M51",
         "Che",
         63
        ],
        [
         "Nis-M84",
         "Nis",
         64
        ],
        [
         "Peu-M125",
         "Peu",
         65
        ],
        [
         "Mah-M177",
         "Mah",
         66
        ],
        [
         "Toy-M198",
         "Toy",
         67
        ],
        [
         "For-M16",
         "For",
         68
        ],
        [
         "Toy-M104",
         "Toy",
         69
        ],
        [
         "BMW-M4",
         "BMW",
         70
        ],
        [
         "Che-M114",
         "Che",
         71
        ],
        [
         "Nis-M88",
         "Nis",
         72
        ],
        [
         "Aud-M233",
         "Aud",
         73
        ],
        [
         "Mar-M147",
         "Mar",
         74
        ],
        [
         "Nis-M269",
         "Nis",
         75
        ],
        [
         "Tes-M98",
         "Tes",
         76
        ],
        [
         "Aud-M241",
         "Aud",
         77
        ],
        [
         "Acu-M60",
         "Acu",
         78
        ],
        [
         "Mah-M175",
         "Mah",
         79
        ],
        [
         "Toy-M106",
         "Toy",
         80
        ],
        [
         "Hyu-M155",
         "Hyu",
         81
        ],
        [
         "Vol-M110",
         "Vol",
         82
        ],
        [
         "Mah-M171",
         "Mah",
         83
        ],
        [
         "Lin-M30",
         "Lin",
         84
        ],
        [
         "BMW-M242",
         "BMW",
         85
        ],
        [
         "Ren-M127",
         "Ren",
         86
        ],
        [
         "For-M223",
         "For",
         87
        ],
        [
         "Mah-M168",
         "Mah",
         88
        ],
        [
         "Aud-M229",
         "Aud",
         89
        ],
        [
         "For-M225",
         "For",
         90
        ],
        [
         "Aud-M232",
         "Aud",
         91
        ],
        [
         "Toy-M200",
         "Toy",
         92
        ],
        [
         "Kia-M77",
         "Kia",
         93
        ],
        [
         "BMW-M248",
         "BMW",
         94
        ],
        [
         "Hyu-M164",
         "Hyu",
         95
        ],
        [
         "Mar-M149",
         "Mar",
         96
        ],
        [
         "Ren-M211",
         "Ren",
         97
        ],
        [
         "GMC-M53",
         "GMC",
         98
        ],
        [
         "Mit-M275",
         "Mit",
         99
        ],
        [
         "Tat-M186",
         "Tat",
         100
        ],
        [
         "Hon-M217",
         "Hon",
         101
        ],
        [
         "Ren-M131",
         "Ren",
         102
        ],
        [
         "Mar-M152",
         "Mar",
         103
        ],
        [
         "Jee-M11",
         "Jee",
         104
        ],
        [
         "Vol-M135",
         "Vol",
         105
        ],
        [
         "Cad-M38",
         "Cad",
         106
        ],
        [
         "Hyu-M153",
         "Hyu",
         107
        ],
        [
         "Ren-M128",
         "Ren",
         108
        ],
        [
         "Tat-M190",
         "Tat",
         109
        ],
        [
         "Mer-M8",
         "Mer",
         110
        ],
        [
         "GMC-M55",
         "GMC",
         111
        ],
        [
         "BMW-M244",
         "BMW",
         112
        ],
        [
         "Toy-M201",
         "Toy",
         113
        ],
        [
         "Toy-M134",
         "Toy",
         114
        ],
        [
         "Agr-M111",
         "Agr",
         115
        ],
        [
         "Fia-M117",
         "Fia",
         116
        ],
        [
         "Mit-M276",
         "Mit",
         117
        ],
        [
         "Kia-M78",
         "Kia",
         118
        ],
        [
         "Aud-M230",
         "Aud",
         119
        ],
        [
         "Ram-M15",
         "Ram",
         120
        ],
        [
         "Tat-M193",
         "Tat",
         121
        ],
        [
         "For-M22",
         "For",
         122
        ],
        [
         "Acu-M62",
         "Acu",
         123
        ],
        [
         "Mah-M165",
         "Mah",
         124
        ],
        [
         "Fia-M118",
         "Fia",
         125
        ],
        [
         "Toy-M195",
         "Toy",
         126
        ],
        [
         "Che-M49",
         "Che",
         127
        ],
        [
         "Bui-M31",
         "Bui",
         128
        ],
        [
         "For-M26",
         "For",
         129
        ],
        [
         "Peu-M124",
         "Peu",
         130
        ],
        [
         "Nis-M83",
         "Nis",
         131
        ],
        [
         "Mar-M142",
         "Mar",
         132
        ],
        [
         "Nis-M266",
         "Nis",
         133
        ],
        [
         "For-M18",
         "For",
         134
        ],
        [
         "Jee-M253",
         "Jee",
         135
        ],
        [
         "Hyu-M157",
         "Hyu",
         136
        ],
        [
         "Tat-M181",
         "Tat",
         137
        ],
        [
         "For-M221",
         "For",
         138
        ],
        [
         "Aud-M240",
         "Aud",
         139
        ],
        [
         "Ren-M210",
         "Ren",
         140
        ],
        [
         "Cad-M39",
         "Cad",
         141
        ],
        [
         "Acu-M61",
         "Acu",
         142
        ],
        [
         "Toy-M102",
         "Toy",
         143
        ],
        [
         "Nis-M262",
         "Nis",
         144
        ],
        [
         "Hon-M216",
         "Hon",
         145
        ],
        [
         "Sub-M93",
         "Sub",
         146
        ],
        [
         "MG-M252",
         "MG",
         147
        ],
        [
         "Mah-M178",
         "Mah",
         148
        ],
        [
         "Kia-M213",
         "Kia",
         149
        ],
        [
         "Hyu-M75",
         "Hyu",
         150
        ],
        [
         "Mah-M170",
         "Mah",
         151
        ],
        [
         "Aud-M239",
         "Aud",
         152
        ],
        [
         "Tat-M180",
         "Tat",
         153
        ],
        [
         "Hyu-M74",
         "Hyu",
         154
        ],
        [
         "Cad-M35",
         "Cad",
         155
        ],
        [
         "BMW-M246",
         "BMW",
         156
        ],
        [
         "BMW-M1",
         "BMW",
         157
        ],
        [
         "Ren-M132",
         "Ren",
         158
        ],
        [
         "GMC-M58",
         "GMC",
         159
        ],
        [
         "Mar-M148",
         "Mar",
         160
        ],
        [
         "Toy-M105",
         "Toy",
         161
        ],
        [
         "Aud-M228",
         "Aud",
         162
        ],
        [
         "Aud-M237",
         "Aud",
         163
        ],
        [
         "Hyu-M161",
         "Hyu",
         164
        ],
        [
         "Nis-M89",
         "Nis",
         165
        ],
        [
         "BMW-M243",
         "BMW",
         166
        ],
        [
         "Hyu-M72",
         "Hyu",
         167
        ],
        [
         "Mar-M140",
         "Mar",
         168
        ],
        [
         "Toy-M196",
         "Toy",
         169
        ],
        [
         "Tes-M97",
         "Tes",
         170
        ],
        [
         "Che-M42",
         "Che",
         171
        ],
        [
         "Vol-M260",
         "Vol",
         172
        ],
        [
         "Mah-M176",
         "Mah",
         173
        ],
        [
         "Hon-M64",
         "Hon",
         174
        ],
        [
         "Nis-M86",
         "Nis",
         175
        ],
        [
         "MG-M251",
         "MG",
         176
        ],
        [
         "Mer-M121",
         "Mer",
         177
        ],
        [
         "Nis-M81",
         "Nis",
         178
        ],
        [
         "GMC-M54",
         "GMC",
         179
        ],
        [
         "Hon-M220",
         "Hon",
         180
        ],
        [
         "Che-M50",
         "Che",
         181
        ],
        [
         "Cad-M37",
         "Cad",
         182
        ],
        [
         "Hyu-M158",
         "Hyu",
         183
        ],
        [
         "Inf-M79",
         "Inf",
         184
        ],
        [
         "GMC-M57",
         "GMC",
         185
        ],
        [
         "BMW-M2",
         "BMW",
         186
        ],
        [
         "GMC-M52",
         "GMC",
         187
        ],
        [
         "Cit-M116",
         "Cit",
         188
        ],
        [
         "Mar-M144",
         "Mar",
         189
        ],
        [
         "For-M17",
         "For",
         190
        ],
        [
         "Tat-M184",
         "Tat",
         191
        ],
        [
         "Tat-M183",
         "Tat",
         192
        ],
        [
         "Nis-M264",
         "Nis",
         193
        ],
        [
         "Hyu-M159",
         "Hyu",
         194
        ],
        [
         "BMW-M5",
         "BMW",
         195
        ],
        [
         "Mah-M169",
         "Mah",
         196
        ],
        [
         "Che-M43",
         "Che",
         197
        ],
        [
         "Tat-M182",
         "Tat",
         198
        ],
        [
         "Tat-M188",
         "Tat",
         199
        ],
        [
         "Aud-M227",
         "Aud",
         200
        ],
        [
         "Mah-M166",
         "Mah",
         201
        ],
        [
         "Riv-M91",
         "Riv",
         202
        ],
        [
         "Hon-M71",
         "Hon",
         203
        ],
        [
         "Hyu-M73",
         "Hyu",
         204
        ],
        [
         "Hyu-M156",
         "Hyu",
         205
        ],
        [
         "Cad-M34",
         "Cad",
         206
        ],
        [
         "Mar-M137",
         "Mar",
         207
        ],
        [
         "Lin-M27",
         "Lin",
         208
        ],
        [
         "Mah-M173",
         "Mah",
         209
        ],
        [
         "Sub-M94",
         "Sub",
         210
        ],
        [
         "Tat-M179",
         "Tat",
         211
        ],
        [
         "Jee-M254",
         "Jee",
         212
        ],
        [
         "GMC-M56",
         "GMC",
         213
        ],
        [
         "Vol-M109",
         "Vol",
         214
        ],
        [
         "Peu-M126",
         "Peu",
         215
        ],
        [
         "Hyu-M160",
         "Hyu",
         216
        ],
        [
         "For-M222",
         "For",
         217
        ],
        [
         "Kia-M214",
         "Kia",
         218
        ],
        [
         "Sub-M95",
         "Sub",
         219
        ],
        [
         "Toy-M101",
         "Toy",
         220
        ],
        [
         "Mar-M143",
         "Mar",
         221
        ],
        [
         "Hon-M65",
         "Hon",
         222
        ],
        [
         "Nis-M265",
         "Nis",
         223
        ],
        [
         "Sko-M272",
         "Sko",
         224
        ],
        [
         "Toy-M107",
         "Toy",
         225
        ],
        [
         "Che-M45",
         "Che",
         226
        ],
        [
         "Jee-M12",
         "Jee",
         227
        ],
        [
         "Hon-M66",
         "Hon",
         228
        ],
        [
         "Mit-M277",
         "Mit",
         229
        ],
        [
         "For-M19",
         "For",
         230
        ],
        [
         "Toy-M100",
         "Toy",
         231
        ],
        [
         "Agr-M113",
         "Agr",
         232
        ],
        [
         "Toy-M204",
         "Toy",
         233
        ],
        [
         "Hon-M120",
         "Hon",
         234
        ],
        [
         "Sko-M271",
         "Sko",
         235
        ],
        [
         "Toy-M199",
         "Toy",
         236
        ],
        [
         "Vol-M255",
         "Vol",
         237
        ],
        [
         "Vol-M256",
         "Vol",
         238
        ],
        [
         "Sub-M92",
         "Sub",
         239
        ],
        [
         "Toy-M197",
         "Toy",
         240
        ],
        [
         "Mah-M172",
         "Mah",
         241
        ],
        [
         "Che-M48",
         "Che",
         242
        ],
        [
         "Mar-M150",
         "Mar",
         243
        ],
        [
         "Nis-M87",
         "Nis",
         244
        ],
        [
         "Acu-M63",
         "Acu",
         245
        ],
        [
         "BMW-M247",
         "BMW",
         246
        ],
        [
         "For-M226",
         "For",
         247
        ],
        [
         "Vol-M257",
         "Vol",
         248
        ],
        [
         "Vol-M259",
         "Vol",
         249
        ],
        [
         "Nis-M80",
         "Nis",
         250
        ],
        [
         "Kia-M212",
         "Kia",
         251
        ],
        [
         "For-M24",
         "For",
         252
        ],
        [
         "Hon-M218",
         "Hon",
         253
        ],
        [
         "Sko-M273",
         "Sko",
         254
        ],
        [
         "Lin-M29",
         "Lin",
         255
        ],
        [
         "Agr-M112",
         "Agr",
         256
        ],
        [
         "Nis-M270",
         "Nis",
         257
        ],
        [
         "Tat-M189",
         "Tat",
         258
        ],
        [
         "Riv-M90",
         "Riv",
         259
        ],
        [
         "Vol-M136",
         "Vol",
         260
        ],
        [
         "Aud-M238",
         "Aud",
         261
        ],
        [
         "Che-M44",
         "Che",
         262
        ],
        [
         "For-M21",
         "For",
         263
        ],
        [
         "For-M224",
         "For",
         264
        ],
        [
         "Ren-M130",
         "Ren",
         265
        ],
        [
         "Che-M40",
         "Che",
         266
        ],
        [
         "Che-M46",
         "Che",
         267
        ],
        [
         "Hon-M219",
         "Hon",
         268
        ],
        [
         "Mer-M6",
         "Mer",
         269
        ],
        [
         "Vol-M258",
         "Vol",
         270
        ],
        [
         "Jee-M13",
         "Jee",
         271
        ],
        [
         "For-M20",
         "For",
         272
        ],
        [
         "Nis-M261",
         "Nis",
         273
        ],
        [
         "Tat-M191",
         "Tat",
         274
        ],
        [
         "BMW-M245",
         "BMW",
         275
        ],
        [
         "Nis-M268",
         "Nis",
         276
        ],
        [
         "Cad-M33",
         "Cad",
         277
        ],
        [
         "Mah-M167",
         "Mah",
         1
        ]
       ],
       "datasetInfos": [],
       "dbfsResultPath": null,
       "isJsonSchema": true,
       "metadata": {
        "createTempViewForImplicitDf": true,
        "dataframeName": "_sqldf",
        "executionCount": 66
       },
       "overflow": false,
       "plotOptions": {
        "customPlotOptions": {},
        "displayType": "table",
        "pivotAggregation": null,
        "pivotColumns": null,
        "xColumns": null,
        "yColumns": null
       },
       "removedWidgets": [],
       "schema": [
        {
         "metadata": "{}",
         "name": "Model_ID",
         "type": "\"string\""
        },
        {
         "metadata": "{}",
         "name": "model_category",
         "type": "\"string\""
        },
        {
         "metadata": "{}",
         "name": "dim_model_key",
         "type": "\"long\""
        }
       ],
       "type": "table"
      }
     },
     "output_type": "display_data"
    }
   ],
   "source": [
    "%sql\n",
    "SELECT * FROM carsproject_catalog.gold.dim_model"
   ]
  }
 ],
 "metadata": {
  "application/vnd.databricks.v1+notebook": {
   "computePreferences": null,
   "dashboards": [],
   "environmentMetadata": {
    "base_environment": "",
    "environment_version": "2"
   },
   "inputWidgetPreferences": null,
   "language": "python",
   "notebookMetadata": {
    "mostRecentlyExecutedCommandWithImplicitDF": {
     "commandId": 5315304610295958,
     "dataframes": [
      "_sqldf"
     ]
    },
    "pythonIndentUnit": 4,
    "widgetLayout": [
     {
      "breakBefore": false,
      "name": "incremental_flag",
      "width": 199
     }
    ]
   },
   "notebookName": "gold_dim_model",
   "widgets": {
    "incremental_flag": {
     "currentValue": "0",
     "nuid": "921e7b6e-74e6-4cbd-8240-a65a43abca9e",
     "typedWidgetInfo": {
      "autoCreated": false,
      "defaultValue": "0",
      "label": null,
      "name": "incremental_flag",
      "options": {
       "validationRegex": null,
       "widgetDisplayType": "Text"
      },
      "parameterDataType": "String"
     },
     "widgetInfo": {
      "defaultValue": "0",
      "label": null,
      "name": "incremental_flag",
      "options": {
       "autoCreated": null,
       "validationRegex": null,
       "widgetType": "text"
      },
      "widgetType": "text"
     }
    }
   }
  },
  "language_info": {
   "name": "python"
  }
 },
 "nbformat": 4,
 "nbformat_minor": 0
}
